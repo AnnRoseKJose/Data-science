{
 "cells": [
  {
   "cell_type": "code",
   "execution_count": 1,
   "id": "6d2f3c41-11a4-4cbb-93d7-528846f63be4",
   "metadata": {},
   "outputs": [],
   "source": [
    "class school:\n",
    "    def student(self,name):\n",
    "        self.name=name\n",
    "        print(name)\n",
    "    \n",
    "    "
   ]
  },
  {
   "cell_type": "code",
   "execution_count": 4,
   "id": "e9e55495-9413-464a-9c0a-55314d1e307a",
   "metadata": {},
   "outputs": [],
   "source": [
    "a=school()\n",
    "b=school()"
   ]
  },
  {
   "cell_type": "code",
   "execution_count": 3,
   "id": "11d160d0-e214-464d-bd25-59a41109ee9a",
   "metadata": {},
   "outputs": [
    {
     "name": "stdout",
     "output_type": "stream",
     "text": [
      "Ann\n"
     ]
    }
   ],
   "source": [
    "a.student('Ann')"
   ]
  },
  {
   "cell_type": "code",
   "execution_count": 5,
   "id": "0801706c-87e8-46d5-b2ea-8bc6d0819075",
   "metadata": {},
   "outputs": [
    {
     "name": "stdout",
     "output_type": "stream",
     "text": [
      "Arjun\n"
     ]
    }
   ],
   "source": [
    "b.student('Arjun')"
   ]
  },
  {
   "cell_type": "code",
   "execution_count": null,
   "id": "6a4add75-2a90-4c16-bc65-1cb7ec44263d",
   "metadata": {},
   "outputs": [],
   "source": []
  }
 ],
 "metadata": {
  "kernelspec": {
   "display_name": "Python 3 (ipykernel)",
   "language": "python",
   "name": "python3"
  },
  "language_info": {
   "codemirror_mode": {
    "name": "ipython",
    "version": 3
   },
   "file_extension": ".py",
   "mimetype": "text/x-python",
   "name": "python",
   "nbconvert_exporter": "python",
   "pygments_lexer": "ipython3",
   "version": "3.9.13"
  }
 },
 "nbformat": 4,
 "nbformat_minor": 5
}
